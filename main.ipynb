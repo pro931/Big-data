{
 "cells": [
  {
   "cell_type": "code",
   "execution_count": 2,
   "metadata": {},
   "outputs": [],
   "source": [
    "#rimas - 439808955"
   ]
  },
  {
   "cell_type": "code",
   "execution_count": null,
   "metadata": {},
   "outputs": [],
   "source": []
  },
  {
   "cell_type": "code",
   "execution_count": 3,
   "metadata": {},
   "outputs": [],
   "source": [
    "import pymongo"
   ]
  },
  {
   "cell_type": "code",
   "execution_count": 4,
   "metadata": {},
   "outputs": [],
   "source": [
    "#1.\tUse Python with MongoDB to implement the required commands. "
   ]
  },
  {
   "cell_type": "markdown",
   "metadata": {},
   "source": [
    "#MongoDB connection"
   ]
  },
  {
   "cell_type": "code",
   "execution_count": 5,
   "metadata": {},
   "outputs": [],
   "source": [
    "from pymongo import MongoClient\n",
    "#conection\n",
    "host=\"localhost\"\n",
    "port=27017"
   ]
  },
  {
   "cell_type": "code",
   "execution_count": 6,
   "metadata": {},
   "outputs": [],
   "source": [
    "Cli=pymongo.MongoClient(host,port)"
   ]
  },
  {
   "cell_type": "markdown",
   "metadata": {},
   "source": [
    "#Check the existing DB"
   ]
  },
  {
   "cell_type": "code",
   "execution_count": 7,
   "metadata": {},
   "outputs": [
    {
     "name": "stdout",
     "output_type": "stream",
     "text": [
      "['439808955_ID', 'admin', 'blog', 'config', 'database3', 'lab3', 'lab3test', 'local', 'newp']\n"
     ]
    }
   ],
   "source": [
    "print(Cli.list_database_names())"
   ]
  },
  {
   "cell_type": "code",
   "execution_count": null,
   "metadata": {},
   "outputs": [],
   "source": []
  },
  {
   "cell_type": "markdown",
   "metadata": {},
   "source": [
    "Create database with your ID\n"
   ]
  },
  {
   "cell_type": "code",
   "execution_count": 8,
   "metadata": {},
   "outputs": [
    {
     "data": {
      "text/plain": [
       "Database(MongoClient(host=['localhost:27017'], document_class=dict, tz_aware=False, connect=True), '439808955_ID')"
      ]
     },
     "execution_count": 8,
     "metadata": {},
     "output_type": "execute_result"
    }
   ],
   "source": [
    "db=Cli[\"439808955_ID\"]\n",
    "\n",
    "db"
   ]
  },
  {
   "cell_type": "code",
   "execution_count": null,
   "metadata": {},
   "outputs": [],
   "source": []
  },
  {
   "cell_type": "code",
   "execution_count": null,
   "metadata": {},
   "outputs": [],
   "source": []
  },
  {
   "cell_type": "code",
   "execution_count": null,
   "metadata": {},
   "outputs": [],
   "source": []
  },
  {
   "cell_type": "markdown",
   "metadata": {},
   "source": [
    "Create collections"
   ]
  },
  {
   "cell_type": "code",
   "execution_count": 9,
   "metadata": {},
   "outputs": [],
   "source": [
    "\n",
    "publishers_collection = db.publishers\n",
    "books_collection = db.books"
   ]
  },
  {
   "cell_type": "code",
   "execution_count": 10,
   "metadata": {},
   "outputs": [
    {
     "data": {
      "text/plain": [
       "Collection(Database(MongoClient(host=['localhost:27017'], document_class=dict, tz_aware=False, connect=True), '439808955_ID'), 'publishers')"
      ]
     },
     "execution_count": 10,
     "metadata": {},
     "output_type": "execute_result"
    }
   ],
   "source": [
    "publishers_collection"
   ]
  },
  {
   "cell_type": "code",
   "execution_count": 11,
   "metadata": {},
   "outputs": [
    {
     "data": {
      "text/plain": [
       "Collection(Database(MongoClient(host=['localhost:27017'], document_class=dict, tz_aware=False, connect=True), '439808955_ID'), 'books')"
      ]
     },
     "execution_count": 11,
     "metadata": {},
     "output_type": "execute_result"
    }
   ],
   "source": [
    "books_collection"
   ]
  },
  {
   "cell_type": "code",
   "execution_count": null,
   "metadata": {},
   "outputs": [],
   "source": []
  },
  {
   "cell_type": "code",
   "execution_count": null,
   "metadata": {},
   "outputs": [],
   "source": []
  },
  {
   "cell_type": "markdown",
   "metadata": {},
   "source": [
    "embedded model relationship  1 -> *"
   ]
  },
  {
   "cell_type": "code",
   "execution_count": 12,
   "metadata": {},
   "outputs": [],
   "source": [
    "publishers_data = [\n",
    "    {\n",
    "        \"_id\": 100, #PK\n",
    "        \"Name\": \"Publisher-1\",\n",
    "        \"founded_year\": 2000,\n",
    "        \"Location\": \"Canada\"\n",
    "    },\n",
    "    {\n",
    "        \"_id\": 200,\n",
    "        \"Name\": \"Publisher-2\",\n",
    "        \"founded_year\": 2020,\n",
    "        \"Location\": \"England\"\n",
    "    }\n",
    "]\n",
    "\n",
    "books_data = [\n",
    "    {\n",
    "        \"_id\": 1100,\n",
    "        \"title\": \"Book Title-1\",\n",
    "        \"author\": [\"author-1\", \"author-2\"],\n",
    "        \"published_date\": \"2010-09-01\",\n",
    "        \"language\": \"English\",\n",
    "        \"price\": 200,\n",
    "        \"publisher_id\": 100  # fk\n",
    "    },\n",
    "    {\n",
    "        \"_id\": 1200,\n",
    "        \"title\": \"Book Title-2\",\n",
    "        \"author\": [\"author-3\"],\n",
    "        \"published_date\": \"2011-06-01\",\n",
    "        \"language\": \"English\",\n",
    "        \"price\": 350,\n",
    "        \"publisher_id\": 100  # Fk\n",
    "    }\n",
    "]\n"
   ]
  },
  {
   "cell_type": "code",
   "execution_count": 13,
   "metadata": {},
   "outputs": [
    {
     "ename": "BulkWriteError",
     "evalue": "batch op errors occurred, full error: {'writeErrors': [{'index': 0, 'code': 11000, 'errmsg': 'E11000 duplicate key error collection: 439808955_ID.publishers index: _id_ dup key: { _id: 100 }', 'keyPattern': {'_id': 1}, 'keyValue': {'_id': 100}, 'op': {'_id': 100, 'Name': 'Publisher-1', 'founded_year': 2000, 'Location': 'Canada'}}], 'writeConcernErrors': [], 'nInserted': 0, 'nUpserted': 0, 'nMatched': 0, 'nModified': 0, 'nRemoved': 0, 'upserted': []}",
     "output_type": "error",
     "traceback": [
      "\u001b[1;31m---------------------------------------------------------------------------\u001b[0m",
      "\u001b[1;31mBulkWriteError\u001b[0m                            Traceback (most recent call last)",
      "Cell \u001b[1;32mIn[13], line 1\u001b[0m\n\u001b[1;32m----> 1\u001b[0m \u001b[43mpublishers_collection\u001b[49m\u001b[38;5;241;43m.\u001b[39;49m\u001b[43minsert_many\u001b[49m\u001b[43m(\u001b[49m\u001b[43mpublishers_data\u001b[49m\u001b[43m)\u001b[49m\n\u001b[0;32m      3\u001b[0m books_collection\u001b[38;5;241m.\u001b[39minsert_many(books_data)\n",
      "File \u001b[1;32mc:\\Users\\rimas\\AppData\\Local\\Programs\\Python\\Python312\\Lib\\site-packages\\pymongo\\_csot.py:107\u001b[0m, in \u001b[0;36mapply.<locals>.csot_wrapper\u001b[1;34m(self, *args, **kwargs)\u001b[0m\n\u001b[0;32m    105\u001b[0m         \u001b[38;5;28;01mwith\u001b[39;00m _TimeoutContext(timeout):\n\u001b[0;32m    106\u001b[0m             \u001b[38;5;28;01mreturn\u001b[39;00m func(\u001b[38;5;28mself\u001b[39m, \u001b[38;5;241m*\u001b[39margs, \u001b[38;5;241m*\u001b[39m\u001b[38;5;241m*\u001b[39mkwargs)\n\u001b[1;32m--> 107\u001b[0m \u001b[38;5;28;01mreturn\u001b[39;00m \u001b[43mfunc\u001b[49m\u001b[43m(\u001b[49m\u001b[38;5;28;43mself\u001b[39;49m\u001b[43m,\u001b[49m\u001b[43m \u001b[49m\u001b[38;5;241;43m*\u001b[39;49m\u001b[43margs\u001b[49m\u001b[43m,\u001b[49m\u001b[43m \u001b[49m\u001b[38;5;241;43m*\u001b[39;49m\u001b[38;5;241;43m*\u001b[39;49m\u001b[43mkwargs\u001b[49m\u001b[43m)\u001b[49m\n",
      "File \u001b[1;32mc:\\Users\\rimas\\AppData\\Local\\Programs\\Python\\Python312\\Lib\\site-packages\\pymongo\\collection.py:755\u001b[0m, in \u001b[0;36mCollection.insert_many\u001b[1;34m(self, documents, ordered, bypass_document_validation, session, comment)\u001b[0m\n\u001b[0;32m    753\u001b[0m blk \u001b[38;5;241m=\u001b[39m _Bulk(\u001b[38;5;28mself\u001b[39m, ordered, bypass_document_validation, comment\u001b[38;5;241m=\u001b[39mcomment)\n\u001b[0;32m    754\u001b[0m blk\u001b[38;5;241m.\u001b[39mops \u001b[38;5;241m=\u001b[39m \u001b[38;5;28mlist\u001b[39m(gen())\n\u001b[1;32m--> 755\u001b[0m \u001b[43mblk\u001b[49m\u001b[38;5;241;43m.\u001b[39;49m\u001b[43mexecute\u001b[49m\u001b[43m(\u001b[49m\u001b[43mwrite_concern\u001b[49m\u001b[43m,\u001b[49m\u001b[43m \u001b[49m\u001b[43msession\u001b[49m\u001b[38;5;241;43m=\u001b[39;49m\u001b[43msession\u001b[49m\u001b[43m)\u001b[49m\n\u001b[0;32m    756\u001b[0m \u001b[38;5;28;01mreturn\u001b[39;00m InsertManyResult(inserted_ids, write_concern\u001b[38;5;241m.\u001b[39macknowledged)\n",
      "File \u001b[1;32mc:\\Users\\rimas\\AppData\\Local\\Programs\\Python\\Python312\\Lib\\site-packages\\pymongo\\bulk.py:576\u001b[0m, in \u001b[0;36m_Bulk.execute\u001b[1;34m(self, write_concern, session)\u001b[0m\n\u001b[0;32m    574\u001b[0m         \u001b[38;5;28;01mreturn\u001b[39;00m \u001b[38;5;28;01mNone\u001b[39;00m\n\u001b[0;32m    575\u001b[0m \u001b[38;5;28;01melse\u001b[39;00m:\n\u001b[1;32m--> 576\u001b[0m     \u001b[38;5;28;01mreturn\u001b[39;00m \u001b[38;5;28;43mself\u001b[39;49m\u001b[38;5;241;43m.\u001b[39;49m\u001b[43mexecute_command\u001b[49m\u001b[43m(\u001b[49m\u001b[43mgenerator\u001b[49m\u001b[43m,\u001b[49m\u001b[43m \u001b[49m\u001b[43mwrite_concern\u001b[49m\u001b[43m,\u001b[49m\u001b[43m \u001b[49m\u001b[43msession\u001b[49m\u001b[43m)\u001b[49m\n",
      "File \u001b[1;32mc:\\Users\\rimas\\AppData\\Local\\Programs\\Python\\Python312\\Lib\\site-packages\\pymongo\\bulk.py:446\u001b[0m, in \u001b[0;36m_Bulk.execute_command\u001b[1;34m(self, generator, write_concern, session)\u001b[0m\n\u001b[0;32m    443\u001b[0m client\u001b[38;5;241m.\u001b[39m_retryable_write(\u001b[38;5;28mself\u001b[39m\u001b[38;5;241m.\u001b[39mis_retryable, retryable_bulk, session, bulk\u001b[38;5;241m=\u001b[39m\u001b[38;5;28mself\u001b[39m)\n\u001b[0;32m    445\u001b[0m \u001b[38;5;28;01mif\u001b[39;00m full_result[\u001b[38;5;124m\"\u001b[39m\u001b[38;5;124mwriteErrors\u001b[39m\u001b[38;5;124m\"\u001b[39m] \u001b[38;5;129;01mor\u001b[39;00m full_result[\u001b[38;5;124m\"\u001b[39m\u001b[38;5;124mwriteConcernErrors\u001b[39m\u001b[38;5;124m\"\u001b[39m]:\n\u001b[1;32m--> 446\u001b[0m     \u001b[43m_raise_bulk_write_error\u001b[49m\u001b[43m(\u001b[49m\u001b[43mfull_result\u001b[49m\u001b[43m)\u001b[49m\n\u001b[0;32m    447\u001b[0m \u001b[38;5;28;01mreturn\u001b[39;00m full_result\n",
      "File \u001b[1;32mc:\\Users\\rimas\\AppData\\Local\\Programs\\Python\\Python312\\Lib\\site-packages\\pymongo\\bulk.py:157\u001b[0m, in \u001b[0;36m_raise_bulk_write_error\u001b[1;34m(full_result)\u001b[0m\n\u001b[0;32m    155\u001b[0m \u001b[38;5;28;01mif\u001b[39;00m full_result[\u001b[38;5;124m\"\u001b[39m\u001b[38;5;124mwriteErrors\u001b[39m\u001b[38;5;124m\"\u001b[39m]:\n\u001b[0;32m    156\u001b[0m     full_result[\u001b[38;5;124m\"\u001b[39m\u001b[38;5;124mwriteErrors\u001b[39m\u001b[38;5;124m\"\u001b[39m]\u001b[38;5;241m.\u001b[39msort(key\u001b[38;5;241m=\u001b[39m\u001b[38;5;28;01mlambda\u001b[39;00m error: error[\u001b[38;5;124m\"\u001b[39m\u001b[38;5;124mindex\u001b[39m\u001b[38;5;124m\"\u001b[39m])\n\u001b[1;32m--> 157\u001b[0m \u001b[38;5;28;01mraise\u001b[39;00m BulkWriteError(full_result)\n",
      "\u001b[1;31mBulkWriteError\u001b[0m: batch op errors occurred, full error: {'writeErrors': [{'index': 0, 'code': 11000, 'errmsg': 'E11000 duplicate key error collection: 439808955_ID.publishers index: _id_ dup key: { _id: 100 }', 'keyPattern': {'_id': 1}, 'keyValue': {'_id': 100}, 'op': {'_id': 100, 'Name': 'Publisher-1', 'founded_year': 2000, 'Location': 'Canada'}}], 'writeConcernErrors': [], 'nInserted': 0, 'nUpserted': 0, 'nMatched': 0, 'nModified': 0, 'nRemoved': 0, 'upserted': []}"
     ]
    }
   ],
   "source": [
    "publishers_collection.insert_many(publishers_data)\n",
    "\n",
    "books_collection.insert_many(books_data)"
   ]
  },
  {
   "cell_type": "markdown",
   "metadata": {},
   "source": [
    " insert data for the given many_books.json file\t"
   ]
  },
  {
   "cell_type": "code",
   "execution_count": null,
   "metadata": {},
   "outputs": [],
   "source": [
    "import json"
   ]
  },
  {
   "cell_type": "code",
   "execution_count": null,
   "metadata": {},
   "outputs": [],
   "source": []
  },
  {
   "cell_type": "markdown",
   "metadata": {},
   "source": [
    "add a file to books_collection "
   ]
  },
  {
   "cell_type": "code",
   "execution_count": null,
   "metadata": {},
   "outputs": [],
   "source": []
  },
  {
   "cell_type": "markdown",
   "metadata": {},
   "source": [
    "Func"
   ]
  },
  {
   "cell_type": "code",
   "execution_count": null,
   "metadata": {},
   "outputs": [],
   "source": [
    "#load\n",
    "def file_loader_fun(json_file):\n",
    "    with open(json_file)as file:\n",
    "        file_data=json.load(file)\n",
    "\n",
    "        print(\"loaded\")\n",
    "\n",
    "        return file_data "
   ]
  },
  {
   "cell_type": "code",
   "execution_count": null,
   "metadata": {},
   "outputs": [],
   "source": [
    "#insert in coll\n",
    "\n",
    "def insert_jsonData_to_collection(file_data,books_collection):\n",
    "    if isinstance(file_data,list):\n",
    "        books_collection.insert_many(file_data)\n",
    "\n",
    "    else:\n",
    "        books_collection.insert_one(file_data)\n"
   ]
  },
  {
   "cell_type": "markdown",
   "metadata": {},
   "source": [
    "use func to load "
   ]
  },
  {
   "cell_type": "code",
   "execution_count": null,
   "metadata": {},
   "outputs": [
    {
     "name": "stdout",
     "output_type": "stream",
     "text": [
      "loaded\n"
     ]
    }
   ],
   "source": [
    "file_data=file_loader_fun(\"many_books.json\")"
   ]
  },
  {
   "cell_type": "code",
   "execution_count": null,
   "metadata": {},
   "outputs": [
    {
     "data": {
      "text/plain": [
       "[{'_id': 1300,\n",
       "  'title': 'Book Title-3',\n",
       "  'author': 'Author-1',\n",
       "  'published_date': '2013-05-06',\n",
       "  'language': 'English',\n",
       "  'price': 400,\n",
       "  'Publisher': {'id': 200,\n",
       "   'name': 'Publisher-2',\n",
       "   'founded_year': 2020,\n",
       "   'Location': 'England'}},\n",
       " {'_id': 1400,\n",
       "  'title': 'Book Title-4',\n",
       "  'author': 'Author-1',\n",
       "  'published_date': '2016-05-01',\n",
       "  'language': 'Arabic',\n",
       "  'price': 500,\n",
       "  'Publisher': {'id': 200,\n",
       "   'name': 'Publisher-2',\n",
       "   'founded_year': 2020,\n",
       "   'Location': 'England'}},\n",
       " {'_id': 1500,\n",
       "  'title': 'Book Title-5',\n",
       "  'author': ['Author-4', 'Author-5', 'Author-6'],\n",
       "  'published_date': '2012-01-01',\n",
       "  'language': 'Arabic',\n",
       "  'price': 500,\n",
       "  'Publisher': {'id': 200,\n",
       "   'name': 'Publisher-2',\n",
       "   'founded_year': 2020,\n",
       "   'Location': 'England'}},\n",
       " {'_id': 1600,\n",
       "  'title': 'Book Title-6',\n",
       "  'author': 'Author-7',\n",
       "  'published_date': '2023-01-01',\n",
       "  'language': 'English',\n",
       "  'price': 600,\n",
       "  'Publisher': {'id': 100,\n",
       "   'name': 'Publisher-1',\n",
       "   'founded_year': 2000,\n",
       "   'Location': 'Canada'}}]"
      ]
     },
     "execution_count": 20,
     "metadata": {},
     "output_type": "execute_result"
    }
   ],
   "source": [
    "file_data"
   ]
  },
  {
   "cell_type": "code",
   "execution_count": null,
   "metadata": {},
   "outputs": [],
   "source": []
  },
  {
   "cell_type": "markdown",
   "metadata": {},
   "source": [
    "inser file -> coll"
   ]
  },
  {
   "cell_type": "code",
   "execution_count": null,
   "metadata": {},
   "outputs": [],
   "source": [
    "insert_jsonData_to_collection(file_data,books_collection)"
   ]
  },
  {
   "cell_type": "markdown",
   "metadata": {},
   "source": [
    "Show the coll"
   ]
  },
  {
   "cell_type": "code",
   "execution_count": null,
   "metadata": {},
   "outputs": [
    {
     "name": "stdout",
     "output_type": "stream",
     "text": [
      "{'_id': 1100, 'title': 'Book Title-1', 'author': ['author-1', 'author-2'], 'published_date': '2010-09-01', 'language': 'English', 'price': 200, 'publisher_id': 100}\n",
      "{'_id': 1200, 'title': 'Book Title-2', 'author': ['author-3'], 'published_date': '2011-06-01', 'language': 'English', 'price': 350, 'publisher_id': 100}\n",
      "{'_id': 1300, 'title': 'Book Title-3', 'author': 'Author-1', 'published_date': '2013-05-06', 'language': 'English', 'price': 400, 'Publisher': {'id': 200, 'name': 'Publisher-2', 'founded_year': 2020, 'Location': 'England'}}\n",
      "{'_id': 1400, 'title': 'Book Title-4', 'author': 'Author-1', 'published_date': '2016-05-01', 'language': 'Arabic', 'price': 500, 'Publisher': {'id': 200, 'name': 'Publisher-2', 'founded_year': 2020, 'Location': 'England'}}\n",
      "{'_id': 1500, 'title': 'Book Title-5', 'author': ['Author-4', 'Author-5', 'Author-6'], 'published_date': '2012-01-01', 'language': 'Arabic', 'price': 500, 'Publisher': {'id': 200, 'name': 'Publisher-2', 'founded_year': 2020, 'Location': 'England'}}\n",
      "{'_id': 1600, 'title': 'Book Title-6', 'author': 'Author-7', 'published_date': '2023-01-01', 'language': 'English', 'price': 600, 'Publisher': {'id': 100, 'name': 'Publisher-1', 'founded_year': 2000, 'Location': 'Canada'}}\n"
     ]
    },
    {
     "data": {
      "text/plain": [
       "[None, None, None, None, None, None]"
      ]
     },
     "execution_count": 22,
     "metadata": {},
     "output_type": "execute_result"
    }
   ],
   "source": [
    "r=books_collection.find()\n",
    "list(map(print,r))"
   ]
  },
  {
   "cell_type": "code",
   "execution_count": 14,
   "metadata": {},
   "outputs": [
    {
     "name": "stdout",
     "output_type": "stream",
     "text": [
      "3\n"
     ]
    }
   ],
   "source": [
    "print(len(db.list_collection_names()))\n"
   ]
  },
  {
   "cell_type": "code",
   "execution_count": 15,
   "metadata": {},
   "outputs": [
    {
     "data": {
      "text/plain": [
       "['newcoll', 'books', 'publishers']"
      ]
     },
     "execution_count": 15,
     "metadata": {},
     "output_type": "execute_result"
    }
   ],
   "source": [
    "ml=db.list_collection_names()\n",
    "\n",
    "ml"
   ]
  },
  {
   "cell_type": "markdown",
   "metadata": {},
   "source": [
    "Query"
   ]
  },
  {
   "cell_type": "code",
   "execution_count": null,
   "metadata": {},
   "outputs": [],
   "source": [
    "import pprint"
   ]
  },
  {
   "cell_type": "code",
   "execution_count": null,
   "metadata": {},
   "outputs": [],
   "source": [
    "#6.1\tDisplay all books in descending order according to published date.\t0.75"
   ]
  },
  {
   "cell_type": "code",
   "execution_count": null,
   "metadata": {},
   "outputs": [
    {
     "name": "stdout",
     "output_type": "stream",
     "text": [
      "{'Location': 'Canada', 'Name': 'Publisher-1', '_id': 100, 'founded_year': 2000}\n",
      "{'Location': 'England', 'Name': 'Publisher-2', '_id': 200, 'founded_year': 2020}\n"
     ]
    }
   ],
   "source": [
    "for dd in publishers_collection.find():\n",
    "    pprint.pprint(dd)"
   ]
  },
  {
   "cell_type": "code",
   "execution_count": null,
   "metadata": {},
   "outputs": [
    {
     "name": "stdout",
     "output_type": "stream",
     "text": [
      "{'_id': 1100,\n",
      " 'author': ['author-1', 'author-2'],\n",
      " 'language': 'English',\n",
      " 'price': 200,\n",
      " 'published_date': '2010-09-01',\n",
      " 'publisher_id': 100,\n",
      " 'title': 'Book Title-1'}\n",
      "{'_id': 1200,\n",
      " 'author': ['author-3'],\n",
      " 'language': 'English',\n",
      " 'price': 350,\n",
      " 'published_date': '2011-06-01',\n",
      " 'publisher_id': 100,\n",
      " 'title': 'Book Title-2'}\n",
      "{'Publisher': {'Location': 'England',\n",
      "               'founded_year': 2020,\n",
      "               'id': 200,\n",
      "               'name': 'Publisher-2'},\n",
      " '_id': 1300,\n",
      " 'author': 'Author-1',\n",
      " 'language': 'English',\n",
      " 'price': 400,\n",
      " 'published_date': '2013-05-06',\n",
      " 'title': 'Book Title-3'}\n",
      "{'Publisher': {'Location': 'England',\n",
      "               'founded_year': 2020,\n",
      "               'id': 200,\n",
      "               'name': 'Publisher-2'},\n",
      " '_id': 1400,\n",
      " 'author': 'Author-1',\n",
      " 'language': 'Arabic',\n",
      " 'price': 500,\n",
      " 'published_date': '2016-05-01',\n",
      " 'title': 'Book Title-4'}\n",
      "{'Publisher': {'Location': 'England',\n",
      "               'founded_year': 2020,\n",
      "               'id': 200,\n",
      "               'name': 'Publisher-2'},\n",
      " '_id': 1500,\n",
      " 'author': ['Author-4', 'Author-5', 'Author-6'],\n",
      " 'language': 'Arabic',\n",
      " 'price': 500,\n",
      " 'published_date': '2012-01-01',\n",
      " 'title': 'Book Title-5'}\n",
      "{'Publisher': {'Location': 'Canada',\n",
      "               'founded_year': 2000,\n",
      "               'id': 100,\n",
      "               'name': 'Publisher-1'},\n",
      " '_id': 1600,\n",
      " 'author': 'Author-7',\n",
      " 'language': 'English',\n",
      " 'price': 600,\n",
      " 'published_date': '2023-01-01',\n",
      " 'title': 'Book Title-6'}\n"
     ]
    }
   ],
   "source": [
    "for rr in books_collection.find():\n",
    "    pprint.pprint(rr)"
   ]
  },
  {
   "cell_type": "code",
   "execution_count": null,
   "metadata": {},
   "outputs": [],
   "source": [
    "#6.2\tDisplay only the title and author of books whose price is less than 500.\t0.75"
   ]
  },
  {
   "cell_type": "code",
   "execution_count": null,
   "metadata": {},
   "outputs": [
    {
     "name": "stdout",
     "output_type": "stream",
     "text": [
      "{'author': ['author-1', 'author-2'], 'price': 200, 'title': 'Book Title-1'}\n",
      "{'author': ['author-3'], 'price': 350, 'title': 'Book Title-2'}\n",
      "{'author': 'Author-1', 'price': 400, 'title': 'Book Title-3'}\n"
     ]
    }
   ],
   "source": [
    "# Query for books with price less than 500\n",
    "query = {\"price\": {\"$lt\": 500}}\n",
    "\n",
    "# Projection to include only title and author fields\n",
    "projection = {\"title\": 1, \"author\": 1, \"_id\": 0,\"price\":1}\n",
    "\n",
    "matching_books = books_collection.find(query, projection)\n",
    "for book in matching_books:\n",
    "    pprint.pprint(book)"
   ]
  }
 ],
 "metadata": {
  "kernelspec": {
   "display_name": "Python 3",
   "language": "python",
   "name": "python3"
  },
  "language_info": {
   "codemirror_mode": {
    "name": "ipython",
    "version": 3
   },
   "file_extension": ".py",
   "mimetype": "text/x-python",
   "name": "python",
   "nbconvert_exporter": "python",
   "pygments_lexer": "ipython3",
   "version": "3.12.0"
  }
 },
 "nbformat": 4,
 "nbformat_minor": 2
}
