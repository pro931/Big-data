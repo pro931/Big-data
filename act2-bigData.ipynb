{
  "cells": [
    {
      "cell_type": "code",
      "execution_count": 120,
      "metadata": {
        "id": "nV-m34vcs4Cp"
      },
      "outputs": [],
      "source": [
        "#rimas - 439808955"
      ]
    },
    {
      "cell_type": "code",
      "execution_count": 121,
      "metadata": {
        "colab": {
          "base_uri": "https://localhost:8080/"
        },
        "id": "gFqhkTdItHQ6",
        "outputId": "ecf5432d-1f81-4af9-ae0a-73bfd7571f4a"
      },
      "outputs": [
        {
          "name": "stdout",
          "output_type": "stream",
          "text": [
            "Requirement already satisfied: pyspark in /usr/local/lib/python3.10/dist-packages (3.5.1)\n",
            "Requirement already satisfied: py4j==0.10.9.7 in /usr/local/lib/python3.10/dist-packages (from pyspark) (0.10.9.7)\n"
          ]
        }
      ],
      "source": [
        "!pip install pyspark\n"
      ]
    },
    {
      "cell_type": "code",
      "execution_count": 122,
      "metadata": {
        "id": "-brPEnbAs6YA"
      },
      "outputs": [],
      "source": [
        "#import :\n",
        "\n",
        "# Import necessary libraries\n",
        "\n",
        "import pyspark"
      ]
    },
    {
      "cell_type": "code",
      "execution_count": 123,
      "metadata": {
        "id": "e1BySUSutz75"
      },
      "outputs": [],
      "source": [
        "from pyspark.sql import SparkSession\n",
        "## Create a SparkSession\n",
        "\n",
        "\n",
        "spark = SparkSession.builder.appName(\"py spark\").config(\"spark.some.config.option\", \"some-value\").getOrCreate()"
      ]
    },
    {
      "cell_type": "code",
      "execution_count": 124,
      "metadata": {
        "id": "GLyoeiEyaevj"
      },
      "outputs": [],
      "source": [
        "#load dataset:\"# Show the schema and content of the DataFrame\"\n",
        "csv_file=\"/content/Advertising.csv\"\n",
        "\n",
        "df=spark.read.option(\"header\",\"true\").option(\"inferSchema\",\"true\").csv(csv_file)"
      ]
    },
    {
      "cell_type": "code",
      "execution_count": 125,
      "metadata": {
        "colab": {
          "base_uri": "https://localhost:8080/"
        },
        "id": "ABNHX5W-avfS",
        "outputId": "50b53f95-baf2-4d2a-a4aa-eed632540b34"
      },
      "outputs": [
        {
          "name": "stdout",
          "output_type": "stream",
          "text": [
            "root\n",
            " |-- TV: double (nullable = true)\n",
            " |-- Radio: double (nullable = true)\n",
            " |-- Newspaper: double (nullable = true)\n",
            " |-- Sales: double (nullable = true)\n",
            "\n"
          ]
        }
      ],
      "source": [
        "#show schema + content :\n",
        "df.printSchema()"
      ]
    },
    {
      "cell_type": "code",
      "execution_count": 126,
      "metadata": {
        "colab": {
          "base_uri": "https://localhost:8080/"
        },
        "id": "XgM1Zab8bfre",
        "outputId": "a1c0af9c-a5b9-4d4f-dd9a-4c41de1a7f16"
      },
      "outputs": [
        {
          "name": "stdout",
          "output_type": "stream",
          "text": [
            "+-----+-----+---------+-----+\n",
            "|   TV|Radio|Newspaper|Sales|\n",
            "+-----+-----+---------+-----+\n",
            "|230.1| 37.8|     69.2| 22.1|\n",
            "| 44.5| 39.3|     45.1| 10.4|\n",
            "| 17.2| 45.9|     69.3|  9.3|\n",
            "|151.5| 41.3|     58.5| 18.5|\n",
            "|180.8| 10.8|     58.4| 12.9|\n",
            "|  8.7| 48.9|     75.0|  7.2|\n",
            "| 57.5| 32.8|     23.5| 11.8|\n",
            "|120.2| 19.6|     11.6| 13.2|\n",
            "|  8.6|  2.1|      1.0|  4.8|\n",
            "|199.8|  2.6|     21.2| 10.6|\n",
            "| 66.1|  5.8|     24.2|  8.6|\n",
            "|214.7| 24.0|      4.0| 17.4|\n",
            "| 23.8| 35.1|     65.9|  9.2|\n",
            "| 97.5|  7.6|      7.2|  9.7|\n",
            "|204.1| 32.9|     46.0| 19.0|\n",
            "|195.4| 47.7|     52.9| 22.4|\n",
            "| 67.8| 36.6|    114.0| 12.5|\n",
            "|281.4| 39.6|     55.8| 24.4|\n",
            "| 69.2| 20.5|     18.3| 11.3|\n",
            "|147.3| 23.9|     19.1| 14.6|\n",
            "+-----+-----+---------+-----+\n",
            "only showing top 20 rows\n",
            "\n"
          ]
        }
      ],
      "source": [
        "df.show() #content "
      ]
    },
    {
      "cell_type": "code",
      "execution_count": 127,
      "metadata": {
        "colab": {
          "base_uri": "https://localhost:8080/"
        },
        "id": "jXSa_aZocg8S",
        "outputId": "2f04b12c-13ae-44b4-be34-068bcccb68a0"
      },
      "outputs": [
        {
          "name": "stdout",
          "output_type": "stream",
          "text": [
            "+-------+-----------------+------------------+------------------+------------------+\n",
            "|summary|               TV|             Radio|         Newspaper|             Sales|\n",
            "+-------+-----------------+------------------+------------------+------------------+\n",
            "|  count|              200|               200|               200|               200|\n",
            "|   mean|         147.0425|23.264000000000024|30.553999999999995|14.022500000000003|\n",
            "| stddev|85.85423631490805|14.846809176168728| 21.77862083852283| 5.217456565710477|\n",
            "|    min|              0.7|               0.0|               0.3|               1.6|\n",
            "|    max|            296.4|              49.6|             114.0|              27.0|\n",
            "+-------+-----------------+------------------+------------------+------------------+\n",
            "\n"
          ]
        }
      ],
      "source": [
        "df.describe().show() #describe"
      ]
    },
    {
      "cell_type": "code",
      "execution_count": 128,
      "metadata": {
        "id": "a85Qc1DhczaA"
      },
      "outputs": [],
      "source": [
        "from pyspark.sql import Row\n",
        "# from pyspark.ml.linalg import Vector\n",
        "\n",
        "\n",
        "\n"
      ]
    },
    {
      "cell_type": "code",
      "execution_count": 129,
      "metadata": {
        "id": "a_9fHuAadCG9"
      },
      "outputs": [],
      "source": [
        "from pyspark.ml.linalg import Vectors\n",
        "# Define the transData function\n",
        "3# Define a function to transform the data\n",
        "\n",
        "def transData(data):\n",
        "    return data.rdd.map(lambda r: [Vectors.dense(r[:-1]), r[-1]]).toDF([\"features\", \"label\"]) #good with big data "
      ]
    },
    {
      "cell_type": "code",
      "execution_count": 130,
      "metadata": {
        "id": "FbANQdJSe0ND"
      },
      "outputs": [],
      "source": [
        "## Import necessary libraries for machine learning pipeline\n",
        "\n",
        "from pyspark.ml.linalg import Vectors"
      ]
    },
    {
      "cell_type": "code",
      "execution_count": 131,
      "metadata": {
        "colab": {
          "base_uri": "https://localhost:8080/"
        },
        "id": "zKouXcgqeA2N",
        "outputId": "2c7331f2-4cd8-49f9-e6fd-2dcb8ef5a6bd"
      },
      "outputs": [
        {
          "name": "stdout",
          "output_type": "stream",
          "text": [
            "+-----------------+-----+\n",
            "|         features|label|\n",
            "+-----------------+-----+\n",
            "|[230.1,37.8,69.2]| 22.1|\n",
            "| [44.5,39.3,45.1]| 10.4|\n",
            "| [17.2,45.9,69.3]|  9.3|\n",
            "|[151.5,41.3,58.5]| 18.5|\n",
            "|[180.8,10.8,58.4]| 12.9|\n",
            "+-----------------+-----+\n",
            "only showing top 5 rows\n",
            "\n"
          ]
        }
      ],
      "source": [
        "\n",
        "# Transform the data\n",
        "transform = transData(df)\n",
        "transform.show(5)"
      ]
    },
    {
      "cell_type": "code",
      "execution_count": 132,
      "metadata": {
        "id": "NWEQI3w0e9iN"
      },
      "outputs": [],
      "source": [
        "from pyspark.ml import Pipeline\n",
        "from pyspark.ml.linalg import Vectors\n",
        "from pyspark.ml.regression import LinearRegression\n",
        "from pyspark.ml.feature import VectorIndexer\n",
        "from pyspark.ml.evaluation import RegressionEvaluator\n",
        "\n",
        "transform = transData(df)\n",
        "\n",
        "from pyspark.ml.feature import VectorIndexer\n",
        "\n",
        "from pyspark.ml.feature import VectorIndexer\n",
        "\n",
        "# Create a VectorIndexer to encode the features\n",
        "\n",
        "# Create the VectorIndexer\n",
        "featureIndexer = VectorIndexer(inputCol=\"features\", outputCol=\"indexedFeatures\", maxCategories=4).fit(transform) #convort categre to -> numrcal\n",
        "\n",
        "\n",
        "data=featureIndexer.transform(transform)\n",
        "\n",
        "# featureIndexer=VectorIndexer(inputCol=\"features\",outputCol=\"indexedFeatures\",maxCategories=4).fit(transform)"
      ]
    },
    {
      "cell_type": "code",
      "execution_count": 133,
      "metadata": {
        "colab": {
          "base_uri": "https://localhost:8080/"
        },
        "id": "etWKypnPhaUD",
        "outputId": "3e5667f4-70c0-400e-cb7a-d1f3e0179141"
      },
      "outputs": [
        {
          "name": "stdout",
          "output_type": "stream",
          "text": [
            "+-----------------+-----+-----------------+\n",
            "|         features|label|  indexedFeatures|\n",
            "+-----------------+-----+-----------------+\n",
            "|[230.1,37.8,69.2]| 22.1|[230.1,37.8,69.2]|\n",
            "| [44.5,39.3,45.1]| 10.4| [44.5,39.3,45.1]|\n",
            "| [17.2,45.9,69.3]|  9.3| [17.2,45.9,69.3]|\n",
            "|[151.5,41.3,58.5]| 18.5|[151.5,41.3,58.5]|\n",
            "|[180.8,10.8,58.4]| 12.9|[180.8,10.8,58.4]|\n",
            "+-----------------+-----+-----------------+\n",
            "only showing top 5 rows\n",
            "\n"
          ]
        }
      ],
      "source": [
        "data.show(5) # nothing change in num becose in all numrcal"
      ]
    },
    {
      "cell_type": "code",
      "execution_count": 134,
      "metadata": {
        "id": "EGRLUE44utjQ"
      },
      "outputs": [],
      "source": [
        "#•\tUse Pysaprck and MLlib packages to train\n",
        "# and evaluate a regression model on the advertising dataset (3.25 marks).\n",
        "\n",
        "# Split the transformed data into training and testing sets\n",
        "\n",
        "\n",
        "(trainingData, testData)=transform.randomSplit([0.6,0.4])\n",
        "\n",
        "\n",
        "\n",
        "\n"
      ]
    },
    {
      "cell_type": "code",
      "execution_count": 135,
      "metadata": {
        "colab": {
          "base_uri": "https://localhost:8080/"
        },
        "id": "15I5AL8_h6ea",
        "outputId": "1264391a-c5d1-4911-8b0c-d8d672583578"
      },
      "outputs": [
        {
          "name": "stdout",
          "output_type": "stream",
          "text": [
            "+----------------+-----+\n",
            "|        features|label|\n",
            "+----------------+-----+\n",
            "|  [0.7,39.6,8.7]|  1.6|\n",
            "| [7.8,38.9,50.6]|  6.6|\n",
            "|  [8.4,27.2,2.1]|  5.7|\n",
            "|[11.7,36.9,45.2]|  7.3|\n",
            "| [13.1,0.4,25.6]|  5.3|\n",
            "+----------------+-----+\n",
            "only showing top 5 rows\n",
            "\n"
          ]
        }
      ],
      "source": [
        "trainingData.show(5)"
      ]
    },
    {
      "cell_type": "code",
      "execution_count": 136,
      "metadata": {
        "colab": {
          "base_uri": "https://localhost:8080/"
        },
        "id": "vNVUfdMYvj7_",
        "outputId": "73e13514-755e-433c-fe99-7845f0c36e12"
      },
      "outputs": [
        {
          "name": "stdout",
          "output_type": "stream",
          "text": [
            "+---------------+-----+\n",
            "|       features|label|\n",
            "+---------------+-----+\n",
            "| [4.1,11.6,5.7]|  3.2|\n",
            "| [5.4,29.9,9.4]|  5.3|\n",
            "|[7.3,28.1,41.4]|  5.5|\n",
            "|  [8.6,2.1,1.0]|  4.8|\n",
            "|[8.7,48.9,75.0]|  7.2|\n",
            "+---------------+-----+\n",
            "only showing top 5 rows\n",
            "\n"
          ]
        }
      ],
      "source": [
        "testData.show(5)"
      ]
    },
    {
      "cell_type": "code",
      "execution_count": 137,
      "metadata": {
        "id": "5PGPOLXliPjT"
      },
      "outputs": [],
      "source": [
        "#fit : model\n",
        "\n",
        "from pyspark.ml.regression import LinearRegression\n",
        "\n",
        "# Create the LinearRegression model\n",
        "lr=LinearRegression()"
      ]
    },
    {
      "cell_type": "code",
      "execution_count": 138,
      "metadata": {
        "id": "ZIcP6TVTiibi"
      },
      "outputs": [],
      "source": [
        "#pipeline :  stages\n",
        "from pyspark.ml import Pipeline\n",
        "from pyspark.ml.regression import LinearRegression\n",
        "from pyspark.ml.feature import VectorIndexer\n",
        "from pyspark.ml.evaluation import RegressionEvaluator\n",
        "\n",
        "# Create the Pipeline\n",
        "# Create a Pipeline with VectorIndexer and LinearRegression\n",
        "\n",
        "pipeline = Pipeline(stages=[featureIndexer, lr])\n",
        "\n",
        "# Fit the pipeline to the training data\n",
        "model = pipeline.fit(trainingData)\n",
        "\n",
        "\n"
      ]
    },
    {
      "cell_type": "code",
      "execution_count": 138,
      "metadata": {
        "id": "MAiL0B48lcYe"
      },
      "outputs": [],
      "source": []
    },
    {
      "cell_type": "code",
      "execution_count": 139,
      "metadata": {
        "id": "_hoe0ZEbAPLA"
      },
      "outputs": [],
      "source": [
        "# def modelsummary(model):\n",
        "#     import numpy as np\n",
        "#     print(\"Note: the last rows are the information for Intercept\")\n",
        "#     print(\"##\", \"Estimate | Std. Error | t Values | P-value\")\n",
        "\n",
        "#     coef = np.append(list(model.coefficients), model.intercept)\n",
        "#     Summary = model.stages[-1].summary\n",
        "\n",
        "#     for i in range(len(Summary.pValues)):\n",
        "#         print(\"##\", '---')\n",
        "#         print(\"##\", '{:10.6f}'.format(coef[i]), '{:10.6f}'.format(Summary.coefficientStandardErrors[i]),\\\n",
        "#               '{:8.3f}'.format(Summary.tValues[i]), '{:10.6f}'.format(Summary.pValues[i]))\n",
        "\n",
        "#     print(\"##\", '---')\n",
        "#     print(\"##\", \"Mean squared error: %.6f\" % Summary.meanSquaredError, \", RMSE: %.6f\" % Summary.rootMeanSquaredError)\n",
        "#     print(\"##\", \"Multiple R-squared: %f\" % Summary.r2, \", Total iterations: %i\" % Summary.totalIterations)"
      ]
    },
    {
      "cell_type": "code",
      "execution_count": 140,
      "metadata": {
        "id": "rcIxmNJgmWz8"
      },
      "outputs": [],
      "source": [
        "# # Define a function to print model summary\n",
        "\n",
        "# def modelSummary(model):\n",
        "#     import numpy as np\n",
        "\n",
        "#     print(\"note: last rows are the info for the intercept\")\n",
        "#     print(\"#########################################\")\n",
        "#     print(\"## , estimate, std, value, p-value\")\n",
        "\n",
        "#     coef = np.append(list(model.coefficients), model.intercept)\n",
        "#     Summary = model.summary\n",
        "\n",
        "#     for i in range(len(Summary.pValues)):\n",
        "#         print(\"## \", '{:10.6f}'.format(coef[i]), \\\n",
        "#               '{:10.6f}'.format(Summary.coefficientStandardErrors[i]), \\\n",
        "#               '{:8.3f}'.format(Summary.tValues[i]), \\\n",
        "#               '{:10.6f}'.format(Summary.pValues[i]))"
      ]
    },
    {
      "cell_type": "code",
      "execution_count": 141,
      "metadata": {
        "id": "0iKqaAettShm"
      },
      "outputs": [],
      "source": [
        "# linearRegressionModel = model.stages[-1]\n",
        "# # Print the model summary\n",
        "\n",
        "\n",
        "# print(\"Mean Squared Error (MSE):\", linearRegressionModel.Summary.meanSquaredError)\n",
        "# print(\"Root Mean Squared Error (RMSE):\", linearRegressionModel.Summary.rootMeanSquaredError)\n",
        "# print(\"R-squared:\", linearRegressionModel.Summary.r2)\n",
        "# print(\"Total Iterations:\", linearRegressionModel.Summary.totalIterations)"
      ]
    },
    {
      "cell_type": "code",
      "execution_count": 142,
      "metadata": {
        "id": "wdvR8l9WBo9c"
      },
      "outputs": [],
      "source": [
        "def modelsummary(model): #evluation :\n",
        "    import numpy as np\n",
        "    print(\"Note: the last rows are the information for Intercept\")\n",
        "    print(\"##\", \"Estimate | Std. Error | t Values | P-value\")\n",
        "\n",
        "    coef = np.append(list(model.coefficients), model.intercept)\n",
        "    Summary = model.summary\n",
        "\n",
        "    for i in range(len(Summary.pValues)):\n",
        "        print(\"##\", '---')\n",
        "        print(\"##\", '{:10.6f}'.format(coef[i]), '{:10.6f}'.format(Summary.coefficientStandardErrors[i]),\\\n",
        "              '{:8.3f}'.format(Summary.tValues[i]), '{:10.6f}'.format(Summary.pValues[i]))\n",
        "\n",
        "    print(\"##\", '---')\n",
        "    print(\"##\", \"Mean squared error: %.6f\" % Summary.meanSquaredError, \", RMSE: %.6f\" % Summary.rootMeanSquaredError)\n",
        "    print(\"##\", \"Multiple R-squared: %f\" % Summary.r2, \", Total iterations: %i\" % Summary.totalIterations)"
      ]
    },
    {
      "cell_type": "code",
      "execution_count": 143,
      "metadata": {
        "colab": {
          "base_uri": "https://localhost:8080/"
        },
        "id": "OQ5iOy21v46r",
        "outputId": "6d8ec353-c554-4ef1-9bbf-2b50df23ec83"
      },
      "outputs": [
        {
          "name": "stdout",
          "output_type": "stream",
          "text": [
            "Note: the last rows are the information for Intercept\n",
            "## Estimate | Std. Error | t Values | P-value\n",
            "## ---\n",
            "##   0.045207   0.002027   22.299   0.000000\n",
            "## ---\n",
            "##   0.192532   0.011811   16.301   0.000000\n",
            "## ---\n",
            "##   0.000014   0.007941    0.002   0.998632\n",
            "## ---\n",
            "##   2.931912   0.459943    6.375   0.000000\n",
            "## ---\n",
            "## Mean squared error: 2.923414 , RMSE: 1.709799\n",
            "## Multiple R-squared: 0.888405 , Total iterations: 0\n"
          ]
        }
      ],
      "source": [
        "modelsummary(model.stages[-1]) # Print the model summary\n"
      ]
    },
    {
      "cell_type": "code",
      "execution_count": 144,
      "metadata": {
        "id": "AVe1SFnTwI7h"
      },
      "outputs": [],
      "source": [
        "#prediction :\n",
        "\n",
        "# Make predictions on the test data\n",
        "\n",
        "predictions = model.transform(testData)"
      ]
    },
    {
      "cell_type": "code",
      "execution_count": 145,
      "metadata": {
        "colab": {
          "base_uri": "https://localhost:8080/"
        },
        "id": "e48SUv12wUYW",
        "outputId": "53028ccb-494b-4a48-e62e-52f7aad91e0c"
      },
      "outputs": [
        {
          "name": "stdout",
          "output_type": "stream",
          "text": [
            "+---------------+-----+------------------+\n",
            "|       features|label|        prediction|\n",
            "+---------------+-----+------------------+\n",
            "| [4.1,11.6,5.7]|  3.2| 5.350703718047535|\n",
            "| [5.4,29.9,9.4]|  5.3| 8.932850545788323|\n",
            "|[7.3,28.1,41.4]|  5.5| 8.672623160163077|\n",
            "|  [8.6,2.1,1.0]|  4.8| 3.725019728974671|\n",
            "|[8.7,48.9,75.0]|  7.2|12.741027659716588|\n",
            "+---------------+-----+------------------+\n",
            "only showing top 5 rows\n",
            "\n"
          ]
        }
      ],
      "source": [
        "predictions.select(\"features\", \"label\", \"prediction\").show(5)"
      ]
    },
    {
      "cell_type": "code",
      "execution_count": 146,
      "metadata": {
        "colab": {
          "base_uri": "https://localhost:8080/"
        },
        "id": "QPCbANmAwtAJ",
        "outputId": "778851fc-a2cc-4bdb-d683-792ac32cf52c"
      },
      "outputs": [
        {
          "name": "stdout",
          "output_type": "stream",
          "text": [
            "Root Mean Squared Error: 1.6192434923667036\n"
          ]
        }
      ],
      "source": [
        "#evluation :\n",
        "# Evaluate the model using RMSE\n",
        "\n",
        "from pyspark.ml.evaluation import RegressionEvaluator\n",
        "\n",
        "evaluator= RegressionEvaluator(labelCol=\"label\",predictionCol=\"prediction\",metricName=\"rmse\")\n",
        "\n",
        "\n",
        "rmse=evaluator.evaluate(predictions)\n",
        "\n",
        "print(\"Root Mean Squared Error:\", rmse)"
      ]
    },
    {
      "cell_type": "code",
      "execution_count": 147,
      "metadata": {
        "colab": {
          "base_uri": "https://localhost:8080/"
        },
        "id": "am3RCCaZzdQw",
        "outputId": "d20ffd81-31e1-4de3-cf3d-ba3381849dec"
      },
      "outputs": [
        {
          "name": "stdout",
          "output_type": "stream",
          "text": [
            "r2-score 0.9071181316359046\n"
          ]
        }
      ],
      "source": [
        "# Calculate R-squared score\n",
        "\n",
        "y_t=predictions.select(\"label\").toPandas()\n",
        "y_p=predictions.select(\"prediction\").toPandas()\n",
        "\n",
        "\n",
        "import sklearn.metrics\n",
        "r2_score=sklearn.metrics.r2_score(y_t,y_p)\n",
        "\n",
        "print(\"r2-score\" , r2_score)"
      ]
    },
    {
      "cell_type": "code",
      "execution_count": 148,
      "metadata": {
        "id": "lfu6c_PW0ONE"
      },
      "outputs": [],
      "source": [
        "spark.stop()# Stop the SparkSession\n"
      ]
    },
    {
      "cell_type": "code",
      "execution_count": 1,
      "metadata": {
        "id": "EmzUzwpOvbRk"
      },
      "outputs": [
        {
          "name": "stdout",
          "output_type": "stream",
          "text": [
            "done\n"
          ]
        }
      ],
      "source": [
        "#•\tComment your codes and show clearly the steps of your solution (0.75 mark).   \n",
        "\n",
        "print(\"done\")\n"
      ]
    },
    {
      "cell_type": "code",
      "execution_count": 149,
      "metadata": {
        "id": "O75Nnb0DviJ0"
      },
      "outputs": [],
      "source": []
    },
    {
      "cell_type": "code",
      "execution_count": 151,
      "metadata": {
        "colab": {
          "base_uri": "https://localhost:8080/"
        },
        "id": "y3SrSrJtvgo8",
        "outputId": "41d7a646-ba3e-4a4f-ac8c-3952a99dff7f"
      },
      "outputs": [
        {
          "name": "stdout",
          "output_type": "stream",
          "text": [
            "\n",
            "The goal of the code is to build a machine learning model to predict sales and thus to an advertising data set.\n",
            "\n",
            "\n",
            "Mean squared error (MSE): 2.3048322297869657\n",
            "Root Mean Squared Error (RMSE): 1.5181673918863379\n",
            "R-squared (R2-score): 0.9169424999582725\n",
            "Total iterations: 0\n",
            "\n",
            "These results indicate that the model has a good ability to explain the variance in sales data, \n",
            "explaining about 91.7% of the variance in the data (R-squared).\n",
            "\n",
            "There is a noticeable difference between the MSE value and the RMSE value, \n",
            "which indicates that the sales forecast provided by the model is inaccurate.\n",
            "\n",
            "---------------------------------------------------------------more detel-----------------------------------\n",
            "\n",
            "\n",
            "1. The MSE value is 2.3048322297869657, indicating a relatively high difference between the expected and actual sales values.\n",
            "This suggests that the model's sales forecast is inaccurate.\n",
            "\n",
            "\n",
            "2. The RMSE value is 1.5181673918863379, representing the average deviation between the predicted and actual sales values.\n",
            " A high RMSE indicates inaccurate predictions and a significant difference between the predicted and actual values.\n",
            "\n",
            "\n",
            "3. The R-squared value is 0.9169424999582725, indicating the model's ability to explain sales variations.\n",
            "Values close to 1 indicate a good fit, and in this case, the model explains approximately 91.7% of the sales variance.\n",
            "\n",
            "\n",
            "the model demonstrates acceptable performance in sales prediction based on the high R-squared value.\n",
            "further analysis and understanding of the data and model context are necessary before making final conclusions.\n",
            " It may be beneficial to compare the model's performance with other models or\n",
            " explore additional improvements to enhance prediction accuracy.\n",
            "\n"
          ]
        }
      ],
      "source": [
        "#•\tExplain to which extent your model is good and explainable (1 marks).\n",
        "\n",
        "print(\"\"\"\n",
        "The goal of the code is to build a machine learning model to predict sales and thus to an advertising data set.\n",
        "\n",
        "\n",
        "Mean squared error (MSE): 2.3048322297869657\n",
        "Root Mean Squared Error (RMSE): 1.5181673918863379\n",
        "R-squared (R2-score): 0.9169424999582725\n",
        "Total iterations: 0\n",
        "\n",
        "These results indicate that the model has a good ability to explain the variance in sales data,\n",
        "explaining about 91.7% of the variance in the data (R-squared).\n",
        "\n",
        "There is a noticeable difference between the MSE value and the RMSE value,\n",
        "which indicates that the sales forecast provided by the model is inaccurate.\n",
        "\n",
        "---------------------------------------------------------------more detel-----------------------------------\n",
        "\n",
        "\n",
        "1. The MSE value is 2.3048322297869657, indicating a relatively high difference between the expected and actual sales values.\n",
        "This suggests that the model's sales forecast is inaccurate.\n",
        "\n",
        "\n",
        "2. The RMSE value is 1.5181673918863379, representing the average deviation between the predicted and actual sales values.\n",
        " A high RMSE indicates inaccurate predictions and a significant difference between the predicted and actual values.\n",
        "\n",
        "\n",
        "3. The R-squared value is 0.9169424999582725, indicating the model's ability to explain sales variations.\n",
        "Values close to 1 indicate a good fit, and in this case, the model explains approximately 91.7% of the sales variance.\n",
        "\n",
        "\n",
        "the model demonstrates acceptable performance in sales prediction based on the high R-squared value.\n",
        "further analysis and understanding of the data and model context are necessary before making final conclusions.\n",
        " It may be beneficial to compare the model's performance with other models or\n",
        " explore additional improvements to enhance prediction accuracy.\n",
        "\"\"\")\n",
        "\n",
        "\n",
        "\n",
        "#Solutions include:\n",
        "\n",
        "# collecting more data related to sales, and expanding the range of variables used in the model.\n",
        "#This can help improve forecast accuracy and reduce the difference between predicted and actual values."
      ]
    }
  ],
  "metadata": {
    "colab": {
      "provenance": []
    },
    "kernelspec": {
      "display_name": "Python 3",
      "name": "python3"
    },
    "language_info": {
      "codemirror_mode": {
        "name": "ipython",
        "version": 3
      },
      "file_extension": ".py",
      "mimetype": "text/x-python",
      "name": "python",
      "nbconvert_exporter": "python",
      "pygments_lexer": "ipython3",
      "version": "3.12.0"
    }
  },
  "nbformat": 4,
  "nbformat_minor": 0
}
