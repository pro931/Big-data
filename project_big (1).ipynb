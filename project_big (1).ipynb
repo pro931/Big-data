{
  "nbformat": 4,
  "nbformat_minor": 0,
  "metadata": {
    "colab": {
      "provenance": []
    },
    "kernelspec": {
      "name": "python3",
      "display_name": "Python 3"
    },
    "language_info": {
      "name": "python"
    }
  },
  "cells": [
    {
      "cell_type": "markdown",
      "source": [],
      "metadata": {
        "id": "VOYe2FmQ9RMJ"
      }
    },
    {
      "cell_type": "code",
      "source": [
        "pip install pyspark"
      ],
      "metadata": {
        "colab": {
          "base_uri": "https://localhost:8080/"
        },
        "id": "VuOXutbW9fQh",
        "outputId": "285d1a04-ecff-4e59-c241-f884ff189642"
      },
      "execution_count": null,
      "outputs": [
        {
          "output_type": "stream",
          "name": "stdout",
          "text": [
            "Collecting pyspark\n",
            "  Downloading pyspark-3.5.1.tar.gz (317.0 MB)\n",
            "\u001b[2K     \u001b[90m━━━━━━━━━━━━━━━━━━━━━━━━━━━━━━━━━━━━━━━━\u001b[0m \u001b[32m317.0/317.0 MB\u001b[0m \u001b[31m3.4 MB/s\u001b[0m eta \u001b[36m0:00:00\u001b[0m\n",
            "\u001b[?25h  Preparing metadata (setup.py) ... \u001b[?25l\u001b[?25hdone\n",
            "Requirement already satisfied: py4j==0.10.9.7 in /usr/local/lib/python3.10/dist-packages (from pyspark) (0.10.9.7)\n",
            "Building wheels for collected packages: pyspark\n",
            "  Building wheel for pyspark (setup.py) ... \u001b[?25l\u001b[?25hdone\n",
            "  Created wheel for pyspark: filename=pyspark-3.5.1-py2.py3-none-any.whl size=317488491 sha256=13b38f97b9354e20770a74c018f45d6797907d5b77744f4eb0682053b9c7a069\n",
            "  Stored in directory: /root/.cache/pip/wheels/80/1d/60/2c256ed38dddce2fdd93be545214a63e02fbd8d74fb0b7f3a6\n",
            "Successfully built pyspark\n",
            "Installing collected packages: pyspark\n",
            "Successfully installed pyspark-3.5.1\n"
          ]
        }
      ]
    },
    {
      "cell_type": "code",
      "source": [
        "#rimas - Hajer"
      ],
      "metadata": {
        "id": "E_uHE7iDKyg_"
      },
      "execution_count": null,
      "outputs": []
    },
    {
      "cell_type": "markdown",
      "source": [
        "***13.2.1. Load and clean data***\n"
      ],
      "metadata": {
        "id": "PCPJzjH9Ky81"
      }
    },
    {
      "cell_type": "code",
      "source": [
        "#rfm is \" تقنية تسويقية تعتمد على البيانات وتستخدم عادة لتجزئة العملاء \"\"\n",
        "#\"استنادًا إلى سلوكهم الشرائي السابق\""
      ],
      "metadata": {
        "id": "06Xe5z6v9eUD"
      },
      "execution_count": null,
      "outputs": []
    },
    {
      "cell_type": "code",
      "execution_count": null,
      "metadata": {
        "id": "H6GQw_va8EZE"
      },
      "outputs": [],
      "source": [
        "from pyspark.sql import SparkSession\n",
        "#لإنشاء وتكوين جلسة\n",
        "\n",
        "spark = SparkSession \\\n",
        "    .builder \\\n",
        "    .appName(\"Python Spark RFM example\") \\\n",
        "    .config(\"spark.some.config.option\", \"some-value\") \\\n",
        "    .getOrCreate()"
      ]
    },
    {
      "cell_type": "code",
      "source": [
        "# load Data set\n",
        "\n",
        "df_raw = spark.read.format('com.databricks.spark.csv').\\\n",
        "                       options(header='true', \\\n",
        "                       inferschema='true').\\\n",
        "            load(\"/content/OnlineRetail.csv\",header=True);"
      ],
      "metadata": {
        "id": "Q3WULOHh-Wt_"
      },
      "execution_count": null,
      "outputs": []
    },
    {
      "cell_type": "code",
      "source": [
        "# show the ds + schema\n",
        "df_raw.show(5)\n",
        "df_raw.printSchema()"
      ],
      "metadata": {
        "colab": {
          "base_uri": "https://localhost:8080/"
        },
        "id": "yWeCMw-Z-WxE",
        "outputId": "25755e13-34ea-4c9e-e8b3-9dc891141efc"
      },
      "execution_count": null,
      "outputs": [
        {
          "output_type": "stream",
          "name": "stdout",
          "text": [
            "+---------+---------+--------------------+--------+--------------+---------+----------+--------------+\n",
            "|InvoiceNo|StockCode|         Description|Quantity|   InvoiceDate|UnitPrice|CustomerID|       Country|\n",
            "+---------+---------+--------------------+--------+--------------+---------+----------+--------------+\n",
            "|   536365|   85123A|WHITE HANGING HEA...|       6|12/1/2010 8:26|     2.55|     17850|United Kingdom|\n",
            "|   536365|    71053| WHITE METAL LANTERN|       6|12/1/2010 8:26|     3.39|     17850|United Kingdom|\n",
            "|   536365|   84406B|CREAM CUPID HEART...|       8|12/1/2010 8:26|     2.75|     17850|United Kingdom|\n",
            "|   536365|   84029G|KNITTED UNION FLA...|       6|12/1/2010 8:26|     3.39|     17850|United Kingdom|\n",
            "|   536365|   84029E|RED WOOLLY HOTTIE...|       6|12/1/2010 8:26|     3.39|     17850|United Kingdom|\n",
            "+---------+---------+--------------------+--------+--------------+---------+----------+--------------+\n",
            "only showing top 5 rows\n",
            "\n",
            "root\n",
            " |-- InvoiceNo: string (nullable = true)\n",
            " |-- StockCode: string (nullable = true)\n",
            " |-- Description: string (nullable = true)\n",
            " |-- Quantity: integer (nullable = true)\n",
            " |-- InvoiceDate: string (nullable = true)\n",
            " |-- UnitPrice: double (nullable = true)\n",
            " |-- CustomerID: integer (nullable = true)\n",
            " |-- Country: string (nullable = true)\n",
            "\n"
          ]
        }
      ]
    },
    {
      "cell_type": "markdown",
      "source": [
        "#the data set is related to invoices for retail transactions.\n",
        "\n",
        "the columns:\n",
        "\n",
        "1. InvoiceNo: A unique identifier for each invoice.\n",
        "2. StockCode: A code or reference number for the specific product or item.\n",
        "3. Description: A textual description of the item.\n",
        "4. Quantity: The quantity of the item purchased in the invoice.\n",
        "5. InvoiceDate: The date and time when the invoice was generated.\n",
        "6. UnitPrice: The price of a single unit of the item.\n",
        "7. CustomerID: The identifier for the customer associated with the invoice.\n",
        "8. Country: The country where the transaction took place.\n"
      ],
      "metadata": {
        "id": "V_bA7w5oWb4x"
      }
    },
    {
      "cell_type": "markdown",
      "source": [
        "****Data clean and data manipulation****\n",
        "\n"
      ],
      "metadata": {
        "id": "S-p7LQTOA692"
      }
    },
    {
      "cell_type": "markdown",
      "source": [
        "#check and remove the null values\n",
        "\n",
        "my_count  حساب عدد الصفوف غير الفارغة في كل عمود في"
      ],
      "metadata": {
        "id": "Gk1pEl_YS9NM"
      }
    },
    {
      "cell_type": "markdown",
      "source": [
        "\"`count(c)` لحساب عدد الصفوف غير الفارغة في العمود المحدد `c`.\"\n",
        "\"`.alias(c)` لتسمية النتيجة المحسوبة للعمود بنفس اسم العمود.\""
      ],
      "metadata": {
        "id": "fZZ8Ugm8Sbfd"
      }
    },
    {
      "cell_type": "code",
      "source": [
        "#check and remove the null values\n",
        "\n",
        "from pyspark.sql.functions import count\n",
        "\n",
        "\n",
        "def my_count(df_in):\n",
        "    df_in.agg( *[ count(c).alias(c) for c in df_in.columns ] ).show()"
      ],
      "metadata": {
        "id": "ypgrvKnO-Wzu"
      },
      "execution_count": null,
      "outputs": []
    },
    {
      "cell_type": "code",
      "source": [
        "my_count(df_raw)\n"
      ],
      "metadata": {
        "colab": {
          "base_uri": "https://localhost:8080/"
        },
        "id": "JVxbv0K6-W2-",
        "outputId": "a527cb38-cf8d-4d6e-8def-f61092d1ce35"
      },
      "execution_count": null,
      "outputs": [
        {
          "output_type": "stream",
          "name": "stdout",
          "text": [
            "+---------+---------+-----------+--------+-----------+---------+----------+-------+\n",
            "|InvoiceNo|StockCode|Description|Quantity|InvoiceDate|UnitPrice|CustomerID|Country|\n",
            "+---------+---------+-----------+--------+-----------+---------+----------+-------+\n",
            "|   112803|   112803|     112478|  112803|     112803|   112803|     74868| 112803|\n",
            "+---------+---------+-----------+--------+-----------+---------+----------+-------+\n",
            "\n"
          ]
        }
      ]
    },
    {
      "cell_type": "markdown",
      "source": [
        "#D.\tData Preprocessing\n",
        "إزالة الصفوف ذات القيم الناقصة (القيم الفارغة)\n"
      ],
      "metadata": {
        "id": "SNegsTxQTQc7"
      }
    },
    {
      "cell_type": "code",
      "source": [
        "df = df_raw.dropna(how='any')\n",
        "my_count(df)"
      ],
      "metadata": {
        "colab": {
          "base_uri": "https://localhost:8080/"
        },
        "id": "sfu3R6_c9U6I",
        "outputId": "a5eab57c-e133-48a3-ac92-5d49ff84d2f5"
      },
      "execution_count": null,
      "outputs": [
        {
          "output_type": "stream",
          "name": "stdout",
          "text": [
            "+---------+---------+-----------+--------+-----------+---------+----------+-------+\n",
            "|InvoiceNo|StockCode|Description|Quantity|InvoiceDate|UnitPrice|CustomerID|Country|\n",
            "+---------+---------+-----------+--------+-----------+---------+----------+-------+\n",
            "|    74868|    74868|      74868|   74868|      74868|    74868|     74868|  74868|\n",
            "+---------+---------+-----------+--------+-----------+---------+----------+-------+\n",
            "\n"
          ]
        }
      ]
    },
    {
      "cell_type": "markdown",
      "source": [
        "انشاء عامود جديد يحتوي على قيم التاريخ و الوقت المحدد"
      ],
      "metadata": {
        "id": "0c1163KjTYLX"
      }
    },
    {
      "cell_type": "code",
      "source": [
        "from pyspark.sql.functions import to_utc_timestamp, unix_timestamp, lit, datediff, col\n",
        "\n",
        "\n",
        "timeFmt = \"MM/dd/yy HH:mm\"\n",
        "\n",
        "df = df.withColumn('NewInvoiceDate'\n",
        "                 , to_utc_timestamp(unix_timestamp(col('InvoiceDate'),timeFmt).cast('timestamp')\n",
        "                 , 'UTC'))"
      ],
      "metadata": {
        "id": "3l3sb5TZ9VAV"
      },
      "execution_count": null,
      "outputs": []
    },
    {
      "cell_type": "code",
      "source": [
        "spark.conf.set(\"spark.sql.legacy.timeParserPolicy\", \"LEGACY\") #عيد سياسة تحليل الوقت والتاريخ\n",
        "\n",
        "from pyspark.sql.functions import to_utc_timestamp, unix_timestamp, lit, datediff, col\n",
        "\n",
        "timeFmt = \"MM/dd/yy HH:mm\"\n",
        "\n",
        "df = df.withColumn('NewInvoiceDate', to_utc_timestamp(unix_timestamp(col('InvoiceDate'), timeFmt).cast('timestamp'), 'UTC'))\n",
        "# \"utc\"تحويل القيمة الزمنية إلى توقيت عالمي موحد\n",
        "\n",
        "df.show(5)"
      ],
      "metadata": {
        "colab": {
          "base_uri": "https://localhost:8080/"
        },
        "id": "bbyqauKC9VC8",
        "outputId": "0bc4a478-dde4-41b8-b928-229f9d626644"
      },
      "execution_count": null,
      "outputs": [
        {
          "output_type": "stream",
          "name": "stdout",
          "text": [
            "+---------+---------+--------------------+--------+--------------+---------+----------+--------------+-------------------+\n",
            "|InvoiceNo|StockCode|         Description|Quantity|   InvoiceDate|UnitPrice|CustomerID|       Country|     NewInvoiceDate|\n",
            "+---------+---------+--------------------+--------+--------------+---------+----------+--------------+-------------------+\n",
            "|   536365|   85123A|WHITE HANGING HEA...|       6|12/1/2010 8:26|     2.55|     17850|United Kingdom|2010-12-01 08:26:00|\n",
            "|   536365|    71053| WHITE METAL LANTERN|       6|12/1/2010 8:26|     3.39|     17850|United Kingdom|2010-12-01 08:26:00|\n",
            "|   536365|   84406B|CREAM CUPID HEART...|       8|12/1/2010 8:26|     2.75|     17850|United Kingdom|2010-12-01 08:26:00|\n",
            "|   536365|   84029G|KNITTED UNION FLA...|       6|12/1/2010 8:26|     3.39|     17850|United Kingdom|2010-12-01 08:26:00|\n",
            "|   536365|   84029E|RED WOOLLY HOTTIE...|       6|12/1/2010 8:26|     3.39|     17850|United Kingdom|2010-12-01 08:26:00|\n",
            "+---------+---------+--------------------+--------+--------------+---------+----------+--------------+-------------------+\n",
            "only showing top 5 rows\n",
            "\n"
          ]
        }
      ]
    },
    {
      "cell_type": "markdown",
      "source": [
        "calculate total price\n",
        "\n"
      ],
      "metadata": {
        "id": "6q_nDaD8GurB"
      }
    },
    {
      "cell_type": "code",
      "source": [
        "from pyspark.sql.functions import round\n",
        "\n",
        "df = df.withColumn('TotalPrice', round( df.Quantity * df.UnitPrice, 2 ) )# حساب إجمالي السعر لكل صف\n"
      ],
      "metadata": {
        "id": "DII6yf22MYUC"
      },
      "execution_count": null,
      "outputs": []
    },
    {
      "cell_type": "code",
      "source": [
        "from pyspark.sql.functions import mean, min, max, sum, datediff, to_date\n",
        "\n",
        "date_max = df.select(max('NewInvoiceDate')).toPandas()\n",
        "current = to_utc_timestamp( unix_timestamp(lit(str(date_max.iloc[0][0])), \\\n",
        "                              'yy-MM-dd HH:mm').cast('timestamp'), 'UTC' )#تحويل البيانات الزمنية إلى توقيت عالمي موحد وحساب مدة بين التاريخ الحال\n",
        "\n",
        "\n",
        "#-----------------------------------------------------_________________________________________________________________-----------------------------------------------\n",
        "# Calculatre Duration\n",
        "df = df.withColumn('Duration', datediff(lit(current), 'NewInvoiceDate')) #يتم حساب الفرق بين التاريخ العالمي الحالي وتواريخ العمود"
      ],
      "metadata": {
        "id": "hXyOdIgE9VGh"
      },
      "execution_count": null,
      "outputs": []
    },
    {
      "cell_type": "code",
      "source": [
        "#يقوم بحساب ثلاثة مؤشرات رئيسية لتحليل)(recency. frequency . monetary)\n",
        "\n",
        "\n",
        "recency = df.groupBy('CustomerID').agg(min('Duration').alias('Recency'))#هدف إلى قياس المدة الزمنية منذ آخر تفاعل أو عملية شراء لكل عميل.\n",
        "#------------------------------------------------------------------------------------------------\n",
        "\n",
        "frequency = df.groupBy('CustomerID', 'InvoiceNo').count()\\\n",
        "                        .groupBy('CustomerID')\\\n",
        "                        .agg(count(\"*\").alias(\"Frequency\")) # لتصنيف العملاء وفهم مدى تفاعلهم وتكرار عمليات الشراء\n",
        "\n",
        "#----------------------------------------------------------------------------------------------------------------------\n",
        "\n",
        "monetary = df.groupBy('CustomerID').agg(round(sum('TotalPrice'), 2).alias('Monetary')) # قياس القيمة المالية الإجمالية لعمليات الشراء التي قام بها كل عميل.\n",
        "\n",
        "#---------------------------------------------------------------------------------------------------------------------------------\n",
        "\n",
        " # دمج البيانات و وفهم سلوكهم وقيمتهم المالية وأهمية مساهمتهم في الايراداتها\n",
        "rfm = recency.join(frequency, 'CustomerID', how='inner') \\\n",
        "             .join(monetary, 'CustomerID', how='inner')"
      ],
      "metadata": {
        "id": "ym9xaAeNMegM"
      },
      "execution_count": null,
      "outputs": []
    },
    {
      "cell_type": "code",
      "source": [
        "rfm.show(5)\n"
      ],
      "metadata": {
        "colab": {
          "base_uri": "https://localhost:8080/"
        },
        "id": "BvG7r7n1Mg3i",
        "outputId": "f4fddd25-042c-4a10-c882-51d7aff43130"
      },
      "execution_count": null,
      "outputs": [
        {
          "output_type": "stream",
          "name": "stdout",
          "text": [
            "+----------+-------+---------+--------+\n",
            "|CustomerID|Recency|Frequency|Monetary|\n",
            "+----------+-------+---------+--------+\n",
            "|     17389|      4|        9|  445.92|\n",
            "|     15727|     54|        2|  2091.6|\n",
            "|     16503|     53|        3|  831.29|\n",
            "|     17420|     96|        1|  130.85|\n",
            "|     15447|     53|        1|  155.17|\n",
            "+----------+-------+---------+--------+\n",
            "only showing top 5 rows\n",
            "\n"
          ]
        }
      ]
    },
    {
      "cell_type": "markdown",
      "source": [
        "'''\n",
        "تاثرت الايرادات بشكل جيد حيث :\n",
        "  العملاء قد قاموا بتفاعل حديث، ويتكررون في الشراء بشكل متكرر،\n",
        " ويقومون بعمليات شراء ذات قيمة مالية عالية.\n",
        "هذه العوامل الثلاثة يمكن أن تؤثر بشكل إيجابي على الإيرادات\n",
        "-------------------------------------------------\n",
        "\n",
        "العمود: Recency\n",
        "\n",
        "القيم: 20, 32, 30, 8, 62\n",
        "مدى التأثير: القيم الأقل تعني تفاعل أكثر حداثة وربما تكون لها تأثير أكبر على الإيرادات.\n",
        "\n",
        "-------------------------------------------------\n",
        "العمود: Frequency\n",
        "\n",
        "القيم: 12, 4, 3, 2\n",
        "مدى التأثير: القيم الأعلى تشير إلى تكرار أعلى لعمليات الشراء وبالتالي تأثير أكبر على الإيرادات.\n",
        "-------------------------------------------------\n",
        "العمود: Monetary\n",
        "\n",
        "القيم: 3570.46, 384.44, 2876.05, 1173.27, 218.06\n",
        "مدى التأثير: القيم الأعلى تشير إلى قيمة مالية أعلى وبالتالي تأثير أكبر على الإيرادات.\n",
        "\n",
        "'''"
      ],
      "metadata": {
        "id": "ca-Q7rrkTxku"
      }
    },
    {
      "cell_type": "markdown",
      "source": [
        "***13.2.2. RFM Segmentation***\n"
      ],
      "metadata": {
        "id": "BHEKbkdYKFih"
      }
    },
    {
      "cell_type": "markdown",
      "source": [
        "تنفيذ تحليل ل لتقييم العملاء وتصنيفهم وفقًا لسلوكهم التجاري"
      ],
      "metadata": {
        "id": "lSdOPEtnT6LL"
      }
    },
    {
      "cell_type": "code",
      "source": [
        "cols = ['Recency','Frequency','Monetary']\n",
        "# describe_pd(rfm,cols,1)\n",
        "\n",
        "summary = rfm[cols].describe()\n",
        "\n",
        "\n",
        "\n",
        "#\"Recency (الحديث):  العملاء الذين قاموا بعمليات شراء حديثة أكثر قيمة وأهمية في التسويق.\n",
        "\n",
        "#Frequency (التكرار):  العملاء الذين يقومون بعمليات شراء متكررة يمثلون عادةً نسبة كبيرة من إيرادات الشركة.\n",
        "\n",
        "#Monetary (القيمة النقدية):  العملاء الذين يقومون بشراء منتجات أكثر قيمة أو يساهمون بمبالغ أكبر في إيرادات الشركة.\""
      ],
      "metadata": {
        "id": "0H8ocJZYJY45"
      },
      "execution_count": null,
      "outputs": []
    },
    {
      "cell_type": "code",
      "source": [
        "summary"
      ],
      "metadata": {
        "colab": {
          "base_uri": "https://localhost:8080/"
        },
        "id": "IdnbBE8nPWf3",
        "outputId": "275276f1-cbe0-4007-ec6d-a349cbc91639"
      },
      "execution_count": null,
      "outputs": [
        {
          "output_type": "execute_result",
          "data": {
            "text/plain": [
              "DataFrame[summary: string, Recency: string, Frequency: string, Monetary: string]"
            ]
          },
          "metadata": {},
          "execution_count": 23
        }
      ]
    },
    {
      "cell_type": "markdown",
      "source": [
        "# حساب المؤشرات الرئيسية\n"
      ],
      "metadata": {
        "id": "TRH5PEE7T-Ra"
      }
    },
    {
      "cell_type": "code",
      "source": [
        "from pyspark.sql.functions import min, count, sum, round, avg, max\n",
        "\n",
        "# حساب المؤشرات الرئيسية\n",
        "recency_summary = rfm.agg(min('Recency').alias('min'), avg('Recency').alias('avg'), max('Recency').alias('max')).collect()\n",
        "frequency_summary = rfm.agg(min('Frequency').alias('min'), avg('Frequency').alias('avg'), max('Frequency').alias('max')).collect()\n",
        "monetary_summary = rfm.agg(min('Monetary').alias('min'), avg('Monetary').alias('avg'), max('Monetary').alias('max')).collect()\n",
        "\n",
        "# طباعة المعلومات\n",
        "print(\"Recency:\")\n",
        "print(\"Min:\", recency_summary[0]['min'])\n",
        "print(\"Avg:\", recency_summary[0]['avg'])\n",
        "print(\"Max:\", recency_summary[0]['max'])\n",
        "print()\n",
        "\n",
        "print(\"Frequency:\")\n",
        "print(\"Min:\", frequency_summary[0]['min'])\n",
        "print(\"Avg:\", frequency_summary[0]['avg'])\n",
        "print(\"Max:\", frequency_summary[0]['max'])\n",
        "print()\n",
        "\n",
        "print(\"Monetary:\")\n",
        "print(\"Min:\", monetary_summary[0]['min'])\n",
        "print(\"Avg:\", monetary_summary[0]['avg'])\n",
        "print(\"Max:\", monetary_summary[0]['max'])"
      ],
      "metadata": {
        "colab": {
          "base_uri": "https://localhost:8080/"
        },
        "id": "YJUG5DL7P0dk",
        "outputId": "3c957e6f-c0a3-4ddb-a57e-458bb23770a3"
      },
      "execution_count": null,
      "outputs": [
        {
          "output_type": "stream",
          "name": "stdout",
          "text": [
            "Recency:\n",
            "Min: 0\n",
            "Avg: 39.88828926065839\n",
            "Max: 96\n",
            "\n",
            "Frequency:\n",
            "Min: 1\n",
            "Avg: 2.4328116567728006\n",
            "Max: 46\n",
            "\n",
            "Monetary:\n",
            "Min: -1192.2\n",
            "Avg: 855.2749595250932\n",
            "Max: 57821.02\n"
          ]
        }
      ]
    },
    {
      "cell_type": "markdown",
      "source": [
        "يمكن ملاحظة أن المتوسطات تشير إلى أن العملاء يقومون بعمليات الشراء بشكل متوسط حوالي 2.43 مرة وتكون القيمة المالية الإجمالية حوالي 855.27."
      ],
      "metadata": {
        "id": "lnp7_F3m1RJP"
      }
    },
    {
      "cell_type": "code",
      "source": [
        "def RScore(x): #(المدة الزمنية منذ آخر تفاعل)\n",
        "    if  x <= 16:\n",
        "        return 1\n",
        "    elif x<= 50:\n",
        "        return 2\n",
        "    elif x<= 143:\n",
        "        return 3\n",
        "    else:\n",
        "        return 4\n"
      ],
      "metadata": {
        "id": "Cj0c11cmJF2S"
      },
      "execution_count": null,
      "outputs": []
    },
    {
      "cell_type": "code",
      "source": [
        "\n",
        "def FScore(x):#(تكرار عمليات الشراء)\n",
        "    if  x <= 1:\n",
        "        return 4\n",
        "    elif x <= 3:\n",
        "        return 3\n",
        "    elif x <= 5:\n",
        "        return 2\n",
        "    else:\n",
        "        return 1\n"
      ],
      "metadata": {
        "id": "Rql6L-y51k8l"
      },
      "execution_count": null,
      "outputs": []
    },
    {
      "cell_type": "code",
      "source": [
        "\n",
        "def MScore(x):#(القيمة المالية الإجمالية)\n",
        "    if  x <= 293:\n",
        "        return 4\n",
        "    elif x <= 648:\n",
        "        return 3\n",
        "    elif x <= 1611:\n",
        "        return 2\n",
        "    else:\n",
        "        return 1\n"
      ],
      "metadata": {
        "id": "0yuhnH3H1mkB"
      },
      "execution_count": null,
      "outputs": []
    },
    {
      "cell_type": "markdown",
      "source": [
        "يمكن استخدام هذه الدرجات لتصنيف العملاء في فئات محددة بناءً على حداثة تفاعلهم، تكرار عمليات الشراء، وقيمتهم المالية.\n",
        "\n"
      ],
      "metadata": {
        "id": "61CL9bjP2CwI"
      }
    },
    {
      "cell_type": "code",
      "source": [
        "# يمكن استخدامها لتجميع العملاء في فئات مختلفة بناءً على تلك الدرجات.\n",
        "from pyspark.sql.functions import udf\n",
        "from pyspark.sql.types import StringType, DoubleType\n",
        "## تعريف الوظائف المعرفة بالنوع\n",
        "\n",
        "R_udf = udf(lambda x: RScore(x), StringType())\n",
        "F_udf = udf(lambda x: FScore(x), StringType())\n",
        "M_udf = udf(lambda x: MScore(x), StringType())"
      ],
      "metadata": {
        "id": "jXnzIdMMJF4-"
      },
      "execution_count": null,
      "outputs": []
    },
    {
      "cell_type": "markdown",
      "source": [
        "إضافة ثلاثة أعمدة إضافية إلى إطار البيانات rfm تسمى \"r_seg\" و \"f_seg\" و \"m_seg\". تحتوي هذه الأعمدة على الدرجات المحسوبة بناءً على قيم\n",
        "\n",
        "Recency وFrequency وMonetary على التوالي.\n",
        "\n",
        " الأعمدة المحسوبة لتصنيف العملاء وفهم سلوكهم وقيمتهم."
      ],
      "metadata": {
        "id": "tbayLx6p2oLG"
      }
    },
    {
      "cell_type": "code",
      "source": [
        "rfm_seg = rfm.withColumn(\"r_seg\", R_udf(\"Recency\"))\n",
        "rfm_seg = rfm_seg.withColumn(\"f_seg\", F_udf(\"Frequency\"))\n",
        "rfm_seg = rfm_seg.withColumn(\"m_seg\", M_udf(\"Monetary\"))\n",
        "#استخدام وظائف محددة للمستخدم (UDFs) منفصلة لحساب قطاعات الحداثة والتردد والنقدي (R_udf، F_udf، و M_udf).\n"
      ],
      "metadata": {
        "id": "yeWMvE_MJF7b"
      },
      "execution_count": null,
      "outputs": []
    },
    {
      "cell_type": "markdown",
      "source": [
        "ستخدام وظائف محددة للمستخدم (UDFs) منفصلة لحساب قطاعات الحداثة والتردد والنقدي (R_udf، F_udf، و M_udf).\n",
        "إنشاء أعمدة منفصلة (r_seg، f_seg، و m_seg) لكل قطاع."
      ],
      "metadata": {
        "id": "BcEIf4ap7_z2"
      }
    },
    {
      "cell_type": "code",
      "source": [
        "rfm_seg.show(5)"
      ],
      "metadata": {
        "colab": {
          "base_uri": "https://localhost:8080/"
        },
        "id": "HgquzvgC2P1g",
        "outputId": "88ee4f51-b801-41b2-8680-31ca62694f12"
      },
      "execution_count": null,
      "outputs": [
        {
          "output_type": "stream",
          "name": "stdout",
          "text": [
            "+----------+-------+---------+--------+-----+-----+-----+\n",
            "|CustomerID|Recency|Frequency|Monetary|r_seg|f_seg|m_seg|\n",
            "+----------+-------+---------+--------+-----+-----+-----+\n",
            "|     17389|      4|        9|  445.92|    1|    1|    3|\n",
            "|     15727|     54|        2|  2091.6|    3|    3|    1|\n",
            "|     16503|     53|        3|  831.29|    3|    3|    2|\n",
            "|     17420|     96|        1|  130.85|    3|    4|    4|\n",
            "|     15447|     53|        1|  155.17|    3|    4|    4|\n",
            "+----------+-------+---------+--------+-----+-----+-----+\n",
            "only showing top 5 rows\n",
            "\n"
          ]
        }
      ]
    },
    {
      "cell_type": "markdown",
      "source": [
        "وجود أعمدة منفصلة (r_seg، f_seg، و m_seg) تحتوي على قطاعات محددة مسبقًا.\n",
        "ربط هذه القيم معًا في عمود واحد جديد (RFMScore) باستخدام F.concat."
      ],
      "metadata": {
        "id": "RkPl4Yme7zbl"
      }
    },
    {
      "cell_type": "code",
      "source": [
        "from pyspark.sql.functions import col, concat\n",
        "\n",
        "#Creating an RFMScore Column\n",
        "rfm_seg = rfm_seg.withColumn('RFMScore', concat(col('r_seg'), col('f_seg'), col('m_seg')))\n",
        "\n",
        "rfm_seg.sort(col('RFMScore')).show(5)#Sorting and Displaying\n",
        "\n",
        "# rfm_seg = rfm_seg.withColumn('RFMScore',F.concat(F.col('r_seg'),F.col('f_seg'), F.col('m_seg')))\n",
        "# rfm_seg.sort(F.col('RFMScore')).show(5)"
      ],
      "metadata": {
        "id": "RU61z5Z7JF-q",
        "colab": {
          "base_uri": "https://localhost:8080/"
        },
        "outputId": "da3259d0-8b2a-4cce-944d-fc49d5d33a9e"
      },
      "execution_count": null,
      "outputs": [
        {
          "output_type": "stream",
          "name": "stdout",
          "text": [
            "+----------+-------+---------+--------+-----+-----+-----+--------+\n",
            "|CustomerID|Recency|Frequency|Monetary|r_seg|f_seg|m_seg|RFMScore|\n",
            "+----------+-------+---------+--------+-----+-----+-----+--------+\n",
            "|     16839|      5|        9| 3238.95|    1|    1|    1|     111|\n",
            "|     15570|      7|        7| 1928.54|    1|    1|    1|     111|\n",
            "|     13081|      0|        8| 7377.51|    1|    1|    1|     111|\n",
            "|     14180|      5|       14| 2179.67|    1|    1|    1|     111|\n",
            "|     17811|      1|       10| 2936.22|    1|    1|    1|     111|\n",
            "+----------+-------+---------+--------+-----+-----+-----+--------+\n",
            "only showing top 5 rows\n",
            "\n"
          ]
        }
      ]
    },
    {
      "cell_type": "markdown",
      "source": [
        "The tables show customer data categorized by how recently they bought (Recency), how often they buy (Frequency), and how much they spend (Monetary).\n",
        "Scores are assigned to each category (high, medium, low).\n",
        "The second table combines these scores into a single code (RFMScore) to represent a customer's overall buying behavior."
      ],
      "metadata": {
        "id": "BN8xD56E8kTx"
      }
    },
    {
      "cell_type": "markdown",
      "source": [
        "***13.2.3. Statistical Summary***\n"
      ],
      "metadata": {
        "id": "rdTCcPBy9a3y"
      }
    },
    {
      "cell_type": "code",
      "source": [
        "\n",
        "rfm_seg.groupBy('RFMScore') \\\n",
        "  .agg({'Recency': 'mean', 'Frequency': 'mean', 'Monetary': 'mean'}) \\\n",
        "  .sort(col('RFMScore')).show(5)"
      ],
      "metadata": {
        "colab": {
          "base_uri": "https://localhost:8080/"
        },
        "id": "jr3eJEhQ9dsy",
        "outputId": "02bf4d33-1fab-4a1c-f698-ceb08ece2691"
      },
      "execution_count": null,
      "outputs": [
        {
          "output_type": "stream",
          "name": "stdout",
          "text": [
            "+--------+------------------+-----------------+------------------+\n",
            "|RFMScore|      avg(Recency)|    avg(Monetary)|    avg(Frequency)|\n",
            "+--------+------------------+-----------------+------------------+\n",
            "|     111|               4.5|7060.734242424243|12.787878787878787|\n",
            "|     112|               4.7|         1107.201| 7.433333333333334|\n",
            "|     113|               5.0|          529.425|               8.5|\n",
            "|     114|              13.0|            281.5|               7.0|\n",
            "|     121|7.6923076923076925|5662.786153846154|4.6923076923076925|\n",
            "+--------+------------------+-----------------+------------------+\n",
            "only showing top 5 rows\n",
            "\n"
          ]
        }
      ]
    },
    {
      "cell_type": "markdown",
      "source": [
        "\n",
        " هناك اختلافات في الأداء الزمني والتكرار والقيمة المالية بين الفئات المختلفة من RFMScore. قد توفر هذه المعلومات\n",
        "  فهمًا أوليًا لنمط سلوك\n",
        " العملاء وتساعد في اتخاذ قرارات استراتيجية\n",
        "\n",
        "  مثل استهداف العملاء ذوي RFMScore محددة لزيادة الربحية وتعزيز التسويق.\n",
        "\n"
      ],
      "metadata": {
        "id": "pa2Bta-WCj2G"
      }
    },
    {
      "cell_type": "markdown",
      "source": [
        "''' Regarding Recency Performance: Customers with a low RFMScore have lower Recency periods,\n",
        "which indicates that they have made recent purchases. Conversely, customers with a higher RFMScore\n",
        "have greater Recency Periods, meaning they made purchases over a longer period of time.\n",
        "\n",
        "\n",
        "Regarding frequency: There is a difference in the average frequency between the different\n",
        "categories of RFMScore. Customers with higher RFMScore values appear to make less frequent\n",
        " purchases compared to customers with lower RFMScore values. This means that customers with a\n",
        "  higher RFMScore may be exclusivity customers or customers who make infrequent purchases.\n",
        "\n",
        "\n",
        "Regarding Monetary value: A significant difference can be observed in the financial\n",
        "value of customers in different categories of RFMScore. For example, customers with an\n",
        "RFMScore of \"111\" have a high average equity value of 7060.734242424243, while customers\n",
        "with an RFMScore of \"112\" have a lower average equity value of 1107.201. This means that customers\n",
        "with higher RFMScore values may be customers with lower financial value. '''"
      ],
      "metadata": {
        "id": "HKqt_Y1OUG0D"
      }
    },
    {
      "cell_type": "markdown",
      "source": [
        "# 1. Recency:\n",
        "   - Identify customers with a low recency score (1) as they are more likely to be high-value customers who have made recent purchases.\n",
        "   - Customers with a high recency score (4) may be at-risk customers who have not made purchases in a long time.\n",
        "\n",
        "#2. Frequency:\n",
        "   - Customers with a high frequency score (1) are loyal and frequent buyers, representing high-value customers.\n",
        "   - Low frequency score (4) indicates customers who make infrequent purchases and may be at-risk.\n",
        "\n",
        "#3. Monetary:\n",
        "   - High monetary score (1) signifies customers who spend the most and are valuable to the business.\n",
        "   - Low monetary score (4) suggests customers who spend less and may need targeted marketing efforts to increase their spending."
      ],
      "metadata": {
        "id": "0Pei80i9ZzB1"
      }
    },
    {
      "cell_type": "markdown",
      "source": [
        "اغلاق الجلسه"
      ],
      "metadata": {
        "id": "HZL4YMsyUPUc"
      }
    },
    {
      "cell_type": "code",
      "source": [
        "spark.stop()"
      ],
      "metadata": {
        "id": "DJcgXV939f9F"
      },
      "execution_count": null,
      "outputs": []
    },
    {
      "cell_type": "code",
      "source": [],
      "metadata": {
        "id": "rVjA-pNqAKk3"
      },
      "execution_count": null,
      "outputs": []
    }
  ]
}